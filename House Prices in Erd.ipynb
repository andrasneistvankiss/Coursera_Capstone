{
 "cells": [
  {
   "cell_type": "markdown",
   "metadata": {},
   "source": [
    "# Analyzis of House Sales Prices in Érd, Hungary"
   ]
  },
  {
   "cell_type": "markdown",
   "metadata": {},
   "source": [
    "##  Introduction/Business Problem"
   ]
  },
  {
   "cell_type": "markdown",
   "metadata": {},
   "source": [
    "I live in Hungary (a small country in Eastern Europe with population of 9.5 million), in a small city near the capital, called Érd. In the last 10 years, this city has developed a lot. Thanks to it more and more people are moving here, who want more peaceful and clearer environment around them. The population of Érd has grown by 12% in 10 years, and the population density is 1140 people per square kilometer (the area of Érd is 60 square kilometer).\n",
    "\n",
    "The city is just 20km from the capital, that's why 60% of the inhabitants work in the capital (commuter). The rapid growth of the population has led to the construction of housing in large numbers. In the last 10 years the number of dwellings increased by 9%. This development attracts investors and entrepreneurs, so more and more shops, stores, restaurants are opening.\n",
    "\n",
    "Who want to move to Érd, try to find a place for their new home at the best price, but they have easy access to transport and social places. I live in Érd for 2 years, and I remember it was very hard to gather all of these informations and find a good place near to railway or bus station, near to school adn so on. Unfortunately there is not such a comparision web page, therefore in my project I will show a map about Érd and its districts, the real estate prices in these districts and make an analyzis of the connection to the venue density. Finally I cluster the city based on the venue density and visualize it."
   ]
  },
  {
   "cell_type": "markdown",
   "metadata": {},
   "source": [
    "## Data"
   ]
  },
  {
   "cell_type": "markdown",
   "metadata": {},
   "source": [
    "To solve the problem I needed the following data:\n",
    "* the boroughs of Érd and their coordinates\n",
    "* the average sales price for houses in each boroughs\n",
    "* the venues in each district\n",
    "\n",
    "I used the following applications and sources:\n",
    "* I got the average real estate sales price from the page of National Statistical Office, I cleaned the data and reduced it to city of Érd. \n",
    "* I used Google Map to get the center coordinates of each district.\n",
    "* I used Forsquare API to get the most common venues of given district.\n",
    "* I used folium to visualize the housing sales price indeces in choropleth map.\n",
    "* I used unsupervised learning K-means algorithm to cluster the boroughs."
   ]
  },
  {
   "cell_type": "code",
   "execution_count": null,
   "metadata": {},
   "outputs": [],
   "source": []
  }
 ],
 "metadata": {
  "kernelspec": {
   "display_name": "Python 3",
   "language": "python",
   "name": "python3"
  },
  "language_info": {
   "codemirror_mode": {
    "name": "ipython",
    "version": 3
   },
   "file_extension": ".py",
   "mimetype": "text/x-python",
   "name": "python",
   "nbconvert_exporter": "python",
   "pygments_lexer": "ipython3",
   "version": "3.7.4"
  }
 },
 "nbformat": 4,
 "nbformat_minor": 2
}
